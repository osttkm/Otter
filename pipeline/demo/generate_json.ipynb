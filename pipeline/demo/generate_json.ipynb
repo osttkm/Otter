{
 "cells": [
  {
   "cell_type": "code",
   "execution_count": 1,
   "metadata": {},
   "outputs": [],
   "source": [
    "import json\n",
    "import pandas as pd\n",
    "import matplotlib.pyplot as plt\n",
    "%matplotlib inline"
   ]
  },
  {
   "cell_type": "code",
   "execution_count": null,
   "metadata": {},
   "outputs": [],
   "source": [
    "# .jsonlファイルを読み込む\n",
    "with open('./docs/train900_pairs.jsonl', 'r') as f:\n",
    "    data = f.readlines()\n",
    "\n",
    "# json形式に変換\n",
    "data = [json.loads(d) for d in data]\n"
   ]
  },
  {
   "cell_type": "code",
   "execution_count": 23,
   "metadata": {},
   "outputs": [
    {
     "data": {
      "text/plain": [
       "dict_keys(['class_id', 'class_name', 'samples', 'neighbors'])"
      ]
     },
     "execution_count": 23,
     "metadata": {},
     "output_type": "execute_result"
    }
   ],
   "source": [
    "data[0].keys()"
   ]
  },
  {
   "cell_type": "code",
   "execution_count": 44,
   "metadata": {},
   "outputs": [
    {
     "name": "stdout",
     "output_type": "stream",
     "text": [
      "['train/n02119789/n02119789_9474.JPEG', 'train/n02119789/n02119789_10546.JPEG', 'train/n02119789/n02119789_11670.JPEG', 'train/n02119789/n02119789_15705.JPEG', 'val/ILSVRC2012_val_00009503.JPEG']\n",
      "<class 'list'>\n",
      "36\n",
      "\n",
      "[['48', 'weasel', 'train/n02441942/n02441942_12878.JPEG'], ['89', 'toy terrier', 'train/n02087046/n02087046_13843.JPEG'], ['632', 'cricket', 'train/n02229544/n02229544_3493.JPEG'], ['406', 'quail', 'train/n01806567/n01806567_1827.JPEG'], ['46', 'Mexican hairless', 'train/n02113978/n02113978_7164.JPEG']]\n",
      "<class 'list'>\n",
      "36\n",
      "\n",
      "kit fox\n",
      "<class 'str'>\n",
      "7\n"
     ]
    },
    {
     "data": {
      "image/png": "[encoded data removed]",
      "text/plain": [
       "<Figure size 2000x500 with 2 Axes>"
      ]
     },
     "metadata": {},
     "output_type": "display_data"
    }
   ],
   "source": [
    "d = data[0]\n",
    "\"\"\"samplesの中身を確認\"\"\"\n",
    "print(d['samples'][0:5])\n",
    "print(type(d['samples']))\n",
    "print(len(d['samples']),end='\\n\\n')\n",
    "\n",
    "\"\"\"neighborsの中身を確認\"\"\"\n",
    "print(d['neighbors'][0:5])\n",
    "print(type(d['neighbors']))\n",
    "print(len(d['neighbors']),end='\\n\\n')\n",
    "\n",
    "\"\"\"neighborsの中身を確認\"\"\"\n",
    "print(d['class_name'])\n",
    "print(type(d['class_name']))\n",
    "print(len(d['class_name']))\n",
    "\n",
    "\n",
    "fig,ax = plt.subplots(1,2,figsize=(20,5))\n",
    "for i in range(len(data)):\n",
    "    num_samples = len(d['samples'])\n",
    "    num_neighbors = len(d['neighbors'])\n",
    "    # axのそれぞれに棒グラフとしてプロット\n",
    "    ax[0].bar(i,num_samples)\n",
    "    ax[1].bar(i,num_neighbors)\n",
    "    # 縦軸，横軸の設定\n",
    "    ax[0].set_ylabel('num_samples')\n",
    "    ax[1].set_ylabel('num_neighbors')\n",
    "    ax[0].set_xlabel('index')\n",
    "    ax[1].set_xlabel('index')\n",
    "    ax[0].set_title('num_samples')\n",
    "    ax[1].set_title('num_neighbors')\n",
    "\n",
    "plt.show()\n"
   ]
  },
  {
   "cell_type": "markdown",
   "metadata": {},
   "source": [
    "# jsonlファイルの作成"
   ]
  },
  {
   "cell_type": "markdown",
   "metadata": {},
   "source": [
    "クエリをjsonlに書き込む"
   ]
  },
  {
   "cell_type": "code",
   "execution_count": 35,
   "metadata": {},
   "outputs": [],
   "source": [
    "import json\n",
    "from pathlib import Path\n",
    "import os\n",
    "\n",
    "base_folder = \"docs\"  # jsonファイルを保存するベースフォルダのパス\n",
    "os.makedirs(base_folder, exist_ok=True)\n",
    "jsonl_path = f'./{base_folder}/custom_data.jsonl'\n",
    "\n",
    "# サンプルの辞書データを作成\n",
    "sample_data = {\n",
    "    \"class_id\": \"\",\n",
    "    \"class_name\": \"\",\n",
    "    \"name\":\"\",\n",
    "    \"samples\": [],\n",
    "    \"neighbors\": [],\n",
    "}\n",
    "\n",
    "# jsonl形式でファイルに保存\n",
    "cnt = 1\n",
    "query_rootpath = Path(\"/home/data/MIMIC-IT/VI_scraping_data/VI_full_train_query\")\n",
    "query_dirname = [Path(p) for p in query_rootpath.iterdir() if p.is_dir()]\n",
    "\n",
    "for q_dir in query_dirname:\n",
    "    for q_sub_dir in q_dir.iterdir():\n",
    "        # sub_dirにあるファイルを取得\n",
    "        \n",
    "        files = [str(p) for p in q_sub_dir.iterdir() if p.is_file()]\n",
    "        cls_name = q_sub_dir.name\n",
    "        parent_cls_name = q_dir.name\n",
    "        sample_data[\"class_id\"] = cnt\n",
    "        sample_data[\"class_name\"] = cls_name\n",
    "        sample_data[\"name\"] = parent_cls_name+'+'+cls_name\n",
    "        sample_data[\"samples\"] = files\n",
    "        if cnt == 0:\n",
    "            with open(jsonl_path, \"w\") as file:\n",
    "                file.write(json.dumps(sample_data) + \"\\n\")\n",
    "        else:\n",
    "            with open(jsonl_path, \"a\") as file:\n",
    "                file.write(json.dumps(sample_data) + \"\\n\")\n",
    "        cnt += 1\n",
    "\n"
   ]
  },
  {
   "cell_type": "markdown",
   "metadata": {},
   "source": [
    "neighborsにコンテキストのNoneを書き込む"
   ]
  },
  {
   "cell_type": "code",
   "execution_count": 36,
   "metadata": {},
   "outputs": [],
   "source": [
    "import json\n",
    "import os\n",
    "import glob\n",
    "\n",
    "context_dir = \"/home/data/MIMIC-IT/VI_scraping_data/VI_full_train_context\"  # ここにベースディレクトリを指定\n",
    "\n",
    "# jsonlデータを保持するリスト\n",
    "jsonl_data = []\n",
    "\n",
    "with open(jsonl_path, 'r') as f:\n",
    "    for line in f:\n",
    "        jsonl_data.append(json.loads(line))\n",
    "        \n",
    "# ファイルに追記\n",
    "for item in jsonl_data:\n",
    "    name = item[\"name\"]\n",
    "    target_name = name.split('+')[0] + '+None'\n",
    "    \n",
    "    # \"class_id\"を検索\n",
    "    target_class_id = None\n",
    "    for candidate in jsonl_data:\n",
    "        if candidate[\"name\"] == target_name:\n",
    "            target_class_id = candidate[\"class_id\"]\n",
    "            break\n",
    "    \n",
    "    # 一致するものが見つからなかった場合\n",
    "    if target_class_id is None:\n",
    "        continue\n",
    "    \n",
    "    # パスの生成\n",
    "    path = os.path.join(context_dir, name.split('+')[0].replace('+', '/'), 'None')\n",
    "    \n",
    "    # 画像ファイルのリストを取得\n",
    "    image_files = glob.glob(f\"{path}/*.jpg\") + glob.glob(f\"{path}/*.JPG\")\n",
    "    \n",
    "    # neighborsに追記\n",
    "    neighbor = {\n",
    "        \"class_id\": target_class_id,\n",
    "        \"name\": target_name.split('+')[1],\n",
    "        \"data\": image_files\n",
    "    }\n",
    "    item[\"neighbors\"].append(neighbor)\n",
    "\n",
    "# jsonlファイルに保存\n",
    "with open(jsonl_path, 'w') as f:\n",
    "    for item in jsonl_data:\n",
    "        json.dump(item, f)\n",
    "        f.write('\\n')\n"
   ]
  },
  {
   "cell_type": "markdown",
   "metadata": {},
   "source": [
    "neighborsにコンテキストの不良品を書き込む（クエリが不良品の場合）"
   ]
  },
  {
   "cell_type": "code",
   "execution_count": 37,
   "metadata": {},
   "outputs": [],
   "source": [
    "import json\n",
    "import os\n",
    "import glob\n",
    "\n",
    "context_dir = \"/home/data/MIMIC-IT/VI_scraping_data/VI_full_train_context\"  # ここにベースディレクトリを指定\n",
    "\n",
    "# jsonlデータを保持するリスト\n",
    "jsonl_data = []\n",
    "\n",
    "with open(jsonl_path, 'r') as f:\n",
    "    for line in f:\n",
    "        jsonl_data.append(json.loads(line))\n",
    "        \n",
    "# 新たな追記処理\n",
    "for item in jsonl_data:\n",
    "    name = item[\"name\"]\n",
    "    split_name = name.split('+')\n",
    "    \n",
    "    # \"+\"でsplitした[1]が\"None\"でない場合のみ処理\n",
    "    if split_name[1] != \"None\":\n",
    "        new_name = name.replace('+', '/')\n",
    "        class_id = item[\"class_id\"]\n",
    "        name_part = split_name[1]\n",
    "        \n",
    "        # パスの生成\n",
    "        path = os.path.join(context_dir, new_name)\n",
    "        \n",
    "        # 画像ファイルのリストを取得\n",
    "        image_files = glob.glob(f\"{path}/*.jpg\") + glob.glob(f\"{path}/*.JPG\")\n",
    "        \n",
    "        # neighborsに追記\n",
    "        neighbor = {\n",
    "            \"class_id\": class_id,\n",
    "            \"name\": name_part,\n",
    "            \"data\": image_files\n",
    "        }\n",
    "        item[\"neighbors\"].append(neighbor)\n",
    "\n",
    "# jsonlファイルに保存\n",
    "with open(jsonl_path, 'w') as f:\n",
    "    for item in jsonl_data:\n",
    "        json.dump(item, f)\n",
    "        f.write('\\n')"
   ]
  },
  {
   "cell_type": "markdown",
   "metadata": {},
   "source": [
    "neighborsにコンテキストの不良品を書き込む（クエリが不良品の場合）"
   ]
  },
  {
   "cell_type": "code",
   "execution_count": 38,
   "metadata": {},
   "outputs": [],
   "source": [
    "import json\n",
    "import os\n",
    "import glob\n",
    "\n",
    "context_dir = \"/home/data/MIMIC-IT/VI_scraping_data/VI_full_train_context\"  # ここにベースディレクトリを指定\n",
    "\n",
    "# jsonlデータを保持するリスト\n",
    "jsonl_data = []\n",
    "\n",
    "with open(jsonl_path, 'r') as f:\n",
    "    for line in f:\n",
    "        jsonl_data.append(json.loads(line))\n",
    "\n",
    "# サブフォルダに対して新たな追記処理\n",
    "for item in jsonl_data:\n",
    "    name = item[\"name\"]\n",
    "    split_name = name.split('+')\n",
    "    \n",
    "    # \"+\"でsplitした[1]が\"None\"の場合のみ処理\n",
    "    if split_name[1] == \"None\":\n",
    "        subfolder_base = os.path.join(context_dir, split_name[0])\n",
    "        \n",
    "        # サブフォルダの存在確認と名前の取得\n",
    "        for subfolder_name in os.listdir(subfolder_base):\n",
    "            if subfolder_name != \"None\":\n",
    "                new_key = f\"{split_name[0]}+{subfolder_name}\"\n",
    "                \n",
    "                # 対応する\"class_id\"と\"name\"を取得\n",
    "                target_class_id = None\n",
    "                for candidate in jsonl_data:\n",
    "                    if candidate[\"name\"] == new_key:\n",
    "                        target_class_id = candidate[\"class_id\"]\n",
    "                        break\n",
    "                \n",
    "                if target_class_id is None:\n",
    "                    continue\n",
    "                \n",
    "                # 画像ファイルのパスを取得\n",
    "                image_path = os.path.join(subfolder_base, subfolder_name)\n",
    "                image_files = glob.glob(f\"{image_path}/*.jpg\") + glob.glob(f\"{image_path}/*.JPG\")\n",
    "                \n",
    "                # neighborsに追記\n",
    "                neighbor = {\n",
    "                    \"class_id\": target_class_id,\n",
    "                    \"name\": subfolder_name,\n",
    "                    \"data\": image_files\n",
    "                }\n",
    "                item[\"neighbors\"].append(neighbor)\n",
    "\n",
    "# jsonlファイルに保存\n",
    "with open(jsonl_path, 'w') as f:\n",
    "    for item in jsonl_data:\n",
    "        json.dump(item, f)\n",
    "        f.write('\\n')\n"
   ]
  },
  {
   "cell_type": "code",
   "execution_count": null,
   "metadata": {},
   "outputs": [],
   "source": []
  }
 ],
 "metadata": {
  "kernelspec": {
   "display_name": "develop",
   "language": "python",
   "name": "python3"
  },
  "language_info": {
   "codemirror_mode": {
    "name": "ipython",
    "version": 3
   },
   "file_extension": ".py",
   "mimetype": "text/x-python",
   "name": "python",
   "nbconvert_exporter": "python",
   "pygments_lexer": "ipython3",
   "version": "3.10.10"
  }
 },
 "nbformat": 4,
 "nbformat_minor": 2
}
